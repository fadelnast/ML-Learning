{
  "nbformat": 4,
  "nbformat_minor": 0,
  "metadata": {
    "kernelspec": {
      "language": "python",
      "display_name": "Python 3",
      "name": "python3"
    },
    "language_info": {
      "pygments_lexer": "ipython3",
      "nbconvert_exporter": "python",
      "version": "3.6.4",
      "file_extension": ".py",
      "codemirror_mode": {
        "name": "ipython",
        "version": 3
      },
      "name": "python",
      "mimetype": "text/x-python"
    },
    "colab": {
      "name": "Getting started with Titaninc dataset.ipynb",
      "provenance": [],
      "include_colab_link": true
    }
  },
  "cells": [
    {
      "cell_type": "markdown",
      "metadata": {
        "id": "view-in-github",
        "colab_type": "text"
      },
      "source": [
        "<a href=\"https://colab.research.google.com/github/fadelnast/ML-Learning/blob/master/Getting_started_with_Titaninc_dataset.ipynb\" target=\"_parent\"><img src=\"https://colab.research.google.com/assets/colab-badge.svg\" alt=\"Open In Colab\"/></a>"
      ]
    },
    {
      "cell_type": "code",
      "metadata": {
        "_uuid": "8f2839f25d086af736a60e9eeb907d3b93b6e0e5",
        "_cell_guid": "b1076dfc-b9ad-4769-8c92-a6c4dae69d19",
        "trusted": true,
        "id": "H5jEmlMZmAmW",
        "colab_type": "code",
        "colab": {}
      },
      "source": [
        "# This Python 3 environment comes with many helpful analytics libraries installed\n",
        "# It is defined by the kaggle/python Docker image: https://github.com/kaggle/docker-python\n",
        "# For example, here's several helpful packages to load\n",
        "\n",
        "import numpy as np # linear algebra\n",
        "import pandas as pd # data processing, CSV file I/O (e.g. pd.read_csv)\n",
        "\n",
        "# Input data files are available in the read-only \"../input/\" directory\n",
        "# For example, running this (by clicking run or pressing Shift+Enter) will list all files under the input directory\n",
        "\n",
        "import os\n",
        "for dirname, _, filenames in os.walk('/kaggle/input'):\n",
        "    for filename in filenames:\n",
        "        print(os.path.join(dirname, filename))\n"
      ],
      "execution_count": 0,
      "outputs": []
    },
    {
      "cell_type": "code",
      "metadata": {
        "_uuid": "d629ff2d2480ee46fbb7e2d37f6b5fab8052498a",
        "_cell_guid": "79c7e3d0-c299-4dcb-8224-4455121ee9b0",
        "trusted": true,
        "id": "tuo5AJ0lmAmi",
        "colab_type": "code",
        "colab": {}
      },
      "source": [
        "#Looking into training dataset\n",
        "dataset_filepath = '../input/titanic/train.csv'\n",
        "train_dataset = pd.read_csv(dataset_filepath)\n",
        "train_dataset.head()"
      ],
      "execution_count": 0,
      "outputs": []
    },
    {
      "cell_type": "code",
      "metadata": {
        "trusted": true,
        "id": "yETNnFXxmAmq",
        "colab_type": "code",
        "colab": {}
      },
      "source": [
        "#Looking into test dataset\n",
        "test_dataset = pd.read_csv('../input/titanic/test.csv')\n",
        "test_dataset.head()\n"
      ],
      "execution_count": 0,
      "outputs": []
    },
    {
      "cell_type": "code",
      "metadata": {
        "trusted": true,
        "id": "2a_6LBJimAmx",
        "colab_type": "code",
        "colab": {}
      },
      "source": [
        "#Checking the probability of women that survive. Base on assumption in gender_submission.csv\n",
        "women = train_dataset.loc[train_dataset.Sex == 'female'][\"Survived\"]\n",
        "rate_women = sum(women)/len(women)\n",
        "\n",
        "print(\"% of women who survived:\", rate_women)"
      ],
      "execution_count": 0,
      "outputs": []
    },
    {
      "cell_type": "code",
      "metadata": {
        "trusted": true,
        "id": "SIAoCpTPmAm7",
        "colab_type": "code",
        "colab": {}
      },
      "source": [
        "#Checking the probability of men that survive. Base on assumption in gender_submission.csv\n",
        "men = train_dataset.loc[train_dataset.Sex == 'male'][\"Survived\"]\n",
        "rate_men = sum(men)/len(men)\n",
        "\n",
        "print(\"% of men who survived:\", rate_men)"
      ],
      "execution_count": 0,
      "outputs": []
    },
    {
      "cell_type": "markdown",
      "metadata": {
        "id": "7sW68DF2mAnD",
        "colab_type": "text"
      },
      "source": [
        "Based on training dataset, it looks like women passenger are more likely to survived in the titanic disaster. That was the basis of gender_submission.csv dataset. It could be improved with several techniques"
      ]
    },
    {
      "cell_type": "code",
      "metadata": {
        "trusted": true,
        "id": "bCWuqM5pmAnF",
        "colab_type": "code",
        "colab": {}
      },
      "source": [
        "#Checking the data\n",
        "train_dataset.describe()"
      ],
      "execution_count": 0,
      "outputs": []
    },
    {
      "cell_type": "code",
      "metadata": {
        "trusted": true,
        "id": "bu_BHxsFmAnM",
        "colab_type": "code",
        "colab": {}
      },
      "source": [
        "#Checking the missing data\n",
        "train_dataset.isnull().sum()"
      ],
      "execution_count": 0,
      "outputs": []
    },
    {
      "cell_type": "code",
      "metadata": {
        "trusted": true,
        "id": "uw2hlxN9mAnV",
        "colab_type": "code",
        "colab": {}
      },
      "source": [
        "#Fill the missing data only in gonna be use features\n",
        "train_dataset['Age'].fillna(train_dataset['Age'].mean(), inplace=True)\n",
        "train_dataset.isnull().sum()"
      ],
      "execution_count": 0,
      "outputs": []
    },
    {
      "cell_type": "code",
      "metadata": {
        "trusted": true,
        "id": "e-GYUTr5mAnd",
        "colab_type": "code",
        "colab": {}
      },
      "source": [
        "#Labels data\n",
        "Y = train_dataset['Survived']\n",
        "print(Y.head())\n",
        "print('\\n')\n",
        "\n",
        "features = [\"Pclass\", \"Sex\", \"SibSp\", \"Parch\", \"Age\", \"Fare\", \"Embarked\"]\n",
        "#Features data\n",
        "X = train_dataset[features]\n",
        "\n",
        "#scaling the categorical features data\n",
        "X = pd.get_dummies(train_dataset[features])\n",
        "print(X.head())\n",
        "print('\\n')\n"
      ],
      "execution_count": 0,
      "outputs": []
    },
    {
      "cell_type": "code",
      "metadata": {
        "trusted": true,
        "id": "b3l2NZV3mAnj",
        "colab_type": "code",
        "colab": {}
      },
      "source": [
        "from sklearn.preprocessing import MinMaxScaler\n",
        "\n",
        "#scalling the numerical features\n",
        "def ScaleNumerical(data):\n",
        "    scale=MinMaxScaler()\n",
        "    data_scaled=scale.fit_transform(data)\n",
        "    data = pd.DataFrame(data_scaled, columns=data.columns)\n",
        "    return data.head()\n",
        "\n",
        "ScaleNumerical(X)"
      ],
      "execution_count": 0,
      "outputs": []
    },
    {
      "cell_type": "code",
      "metadata": {
        "trusted": true,
        "id": "4ifbiCkamAnq",
        "colab_type": "code",
        "colab": {}
      },
      "source": [
        "#fill the missing data\n",
        "test_dataset['Age'].fillna(test_dataset['Age'].mean(), inplace=True)\n",
        "test_dataset['Fare'].fillna(test_dataset['Fare'].mean(), inplace=True)\n",
        "test_dataset.isnull().sum()\n",
        "\n",
        "#Test dataset\n",
        "X_test = test_dataset[features]\n",
        "print(X_test)\n",
        "\n",
        "X_test = pd.get_dummies(test_dataset[features])\n",
        "print(X_test)\n",
        "ScaleNumerical(X_test)"
      ],
      "execution_count": 0,
      "outputs": []
    },
    {
      "cell_type": "code",
      "metadata": {
        "trusted": true,
        "id": "UX4gDeWVmAnz",
        "colab_type": "code",
        "colab": {}
      },
      "source": [
        "from sklearn.model_selection import train_test_split\n",
        "\n",
        "#Split the training data into train and validaton data\n",
        "X_train, X_val, Y_train, Y_val = train_test_split(X, Y, random_state=0)\n",
        "\n",
        "print('X_train shape: ', X_train.shape, '\\n')\n",
        "print('X_val shape: ', X_val.shape, '\\n')\n",
        "print('Y_train shape: ', Y_train.shape, '\\n')\n",
        "print('Y_val shape: ', Y_val.shape, '\\n')"
      ],
      "execution_count": 0,
      "outputs": []
    },
    {
      "cell_type": "code",
      "metadata": {
        "trusted": true,
        "id": "gQsC2jvZmAn7",
        "colab_type": "code",
        "colab": {}
      },
      "source": [
        "from sklearn.ensemble import RandomForestClassifier\n",
        "from sklearn.metrics import mean_absolute_error\n",
        "\n",
        "#building the model\n",
        "forest_model = RandomForestClassifier(n_estimators=150, max_depth=10, random_state=1)\n",
        "#fitting the model\n",
        "forest_model.fit(X_train, Y_train)\n",
        "#validate the model\n",
        "val_pred = forest_model.predict(X_val)\n",
        "print(mean_absolute_error(Y_val, val_pred))"
      ],
      "execution_count": 0,
      "outputs": []
    },
    {
      "cell_type": "code",
      "metadata": {
        "trusted": true,
        "id": "ioo2H0BYmAoC",
        "colab_type": "code",
        "colab": {}
      },
      "source": [
        "#Predict the model with test data\n",
        "predictions = forest_model.predict(X_test)\n",
        "predictions[:10]"
      ],
      "execution_count": 0,
      "outputs": []
    },
    {
      "cell_type": "code",
      "metadata": {
        "trusted": true,
        "id": "CMKmx-77mAoI",
        "colab_type": "code",
        "colab": {}
      },
      "source": [
        "output = pd.DataFrame({'PassengerId': test_dataset.PassengerId, 'Survived': predictions})\n",
        "output.to_csv('my_submission.csv', index=False)\n",
        "print(\"Your submission was successfully saved!\")"
      ],
      "execution_count": 0,
      "outputs": []
    }
  ]
}